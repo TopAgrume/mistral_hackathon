{
 "cells": [
  {
   "cell_type": "code",
   "execution_count": 18,
   "metadata": {},
   "outputs": [],
   "source": [
    "import os\n",
    "import csv\n",
    "import cv2\n",
    "from PIL import Image\n",
    "from tqdm import tqdm\n",
    "import numpy as np\n",
    "from rembg import remove as remove_background\n",
    "\n",
    "\n",
    "DEFAULT_ASCII_CHARS = ' .:-=+*#%@'"
   ]
  },
  {
   "cell_type": "code",
   "execution_count": 19,
   "metadata": {},
   "outputs": [],
   "source": [
    "def resize_image(image, new_width=60):\n",
    "    \"\"\"Resize the image while maintaining aspect ratio.\"\"\"\n",
    "    width, height = image.size\n",
    "    ratio = height / width\n",
    "    new_height = int(new_width * ratio)\n",
    "    return image.resize((new_width * 2, new_height))\n",
    "\n",
    "def grayscale_image(image):\n",
    "    \"\"\"Convert the image to grayscale.\"\"\"\n",
    "    return image.convert('L')\n",
    "\n",
    "\"\"\"def pixels_to_ascii(image):\n",
    "    pixels = image.getdata()\n",
    "    duplicated_pixels = [pixel for pixel in pixels for _ in range(2)]\n",
    "    characters = \"\".join([ASCII_CHARS[pixel//25] for pixel in duplicated_pixels])\n",
    "    return characters\"\"\"\n",
    "\n",
    "def image_to_ascii(image, ascii_chars=DEFAULT_ASCII_CHARS):\n",
    "    \"\"\"Convert the image to ASCII art.\"\"\"\n",
    "    image = grayscale_image(image)\n",
    "    pixels = np.array(image)\n",
    "\n",
    "    pixel_range = len(ascii_chars) - 1\n",
    "    ascii_str = '\\n'.join(\n",
    "        ''.join(ascii_chars[pixel_value * pixel_range // 255] for pixel_value in row)\n",
    "        for row in pixels\n",
    "    )\n",
    "    return ascii_str\n",
    "\n",
    "def csv_save(file_name, data):\n",
    "    with open(file_name, mode='w', newline='') as file:\n",
    "        writer = csv.writer(file)\n",
    "        writer.writerows(data)"
   ]
  },
  {
   "cell_type": "code",
   "execution_count": 20,
   "metadata": {},
   "outputs": [],
   "source": [
    "def load_image(input_image_path):\n",
    "    \"\"\"Load an image from the specified path.\"\"\"\n",
    "    try:\n",
    "        image = Image.open(input_image_path)\n",
    "        image = remove_background(image)\n",
    "        return image\n",
    "    except FileNotFoundError:\n",
    "        raise FileNotFoundError(f\"Error: The specified image file '{input_image_path}' was not found.\")\n",
    "    except Exception as e:\n",
    "        raise Exception(f\"Error: Failed to load image '{input_image_path}': {e}\")"
   ]
  },
  {
   "cell_type": "code",
   "execution_count": 21,
   "metadata": {},
   "outputs": [],
   "source": [
    "def generate_ascii_art(image, output_width, ascii_chars=DEFAULT_ASCII_CHARS):\n",
    "    \"\"\"Generate ASCII art from an image.\"\"\"\n",
    "    image = resize_image(image, output_width)\n",
    "    ascii_art = image_to_ascii(image, ascii_chars)\n",
    "    return ascii_art"
   ]
  },
  {
   "cell_type": "code",
   "execution_count": 22,
   "metadata": {},
   "outputs": [],
   "source": [
    "ascii_chars = ' .:-=+*#%@'\n",
    "\n",
    "def main(data_path, csv_ascii_30_path, csv_asccii_60_path):\n",
    "    ascii_30, ascii_60 = [], []\n",
    "    for datasets_name in os.listdir(data_path):\n",
    "        dataset_path = os.path.join(data_path, datasets_name)\n",
    "\n",
    "        for class_ in os.listdir(dataset_path):\n",
    "            class_path = os.path.join(dataset_path, class_)\n",
    "\n",
    "            for sample in tqdm(os.listdir(class_path)):\n",
    "                sample_path = os.path.join(class_path, sample)\n",
    "                #print(f\"Processing: Dataset {datasets_name}, Class {class_}, Sample {sample}\")\n",
    "                try:\n",
    "                    input_image = load_image(sample_path)\n",
    "                except:\n",
    "                    print(sample_path, \" is not a valid pathname to an image.\")\n",
    "                    continue\n",
    "\n",
    "                ascii_30.append([generate_ascii_art(input_image, 20, ascii_chars), class_, sample])\n",
    "                ascii_60.append([generate_ascii_art(input_image, 40, ascii_chars), class_, sample])\n",
    "\n",
    "                csv_save(os.path.join(csv_ascii_30_path, f\"ascii_30_{datasets_name}_{class_}.csv\"), ascii_30)\n",
    "                csv_save(os.path.join(csv_asccii_60_path, f\"ascii_60_{datasets_name}_{class_}.csv\"), ascii_60)\n",
    "                return\n",
    "    print('===> Done <===')"
   ]
  },
  {
   "cell_type": "code",
   "execution_count": 23,
   "metadata": {},
   "outputs": [
    {
     "data": {
      "text/plain": [
       "'/home/alex/Desktop/mistral_hackathon/src/image_to_ascii/data'"
      ]
     },
     "execution_count": 23,
     "metadata": {},
     "output_type": "execute_result"
    }
   ],
   "source": [
    "data_path = os.path.join(os.getcwd(), \"data\")\n",
    "data_path"
   ]
  },
  {
   "cell_type": "code",
   "execution_count": 24,
   "metadata": {},
   "outputs": [
    {
     "data": {
      "text/plain": [
       "'/home/alex/Desktop/mistral_hackathon/src/image_to_ascii/ascii_30'"
      ]
     },
     "execution_count": 24,
     "metadata": {},
     "output_type": "execute_result"
    }
   ],
   "source": [
    "ascii_30_path = os.path.join(os.getcwd(), \"ascii_30\")\n",
    "ascii_30_path"
   ]
  },
  {
   "cell_type": "code",
   "execution_count": 25,
   "metadata": {},
   "outputs": [
    {
     "data": {
      "text/plain": [
       "'/home/alex/Desktop/mistral_hackathon/src/image_to_ascii/ascii_60'"
      ]
     },
     "execution_count": 25,
     "metadata": {},
     "output_type": "execute_result"
    }
   ],
   "source": [
    "ascii_60_path = os.path.join(os.getcwd(), \"ascii_60\")\n",
    "ascii_60_path"
   ]
  },
  {
   "cell_type": "code",
   "execution_count": 26,
   "metadata": {},
   "outputs": [
    {
     "name": "stderr",
     "output_type": "stream",
     "text": [
      "  0%|          | 0/500 [00:00<?, ?it/s]\n"
     ]
    }
   ],
   "source": [
    "main(data_path, ascii_30_path, ascii_60_path)"
   ]
  },
  {
   "cell_type": "code",
   "execution_count": null,
   "metadata": {},
   "outputs": [],
   "source": [
    "import pandas as pd\n",
    "\n",
    "df_ascii_30 = pd.read_csv(ascii_30_path, header=None, names=[\"ascii_art\", \"class\", \"sample_name\"])\n",
    "df_ascii_60 = pd.read_csv(ascii_60_path, header=None, names=[\"ascii_art\", \"class\", \"sample_name\"])\n"
   ]
  },
  {
   "cell_type": "code",
   "execution_count": null,
   "metadata": {},
   "outputs": [],
   "source": [
    "img = Image.open('/home/alex/Desktop/mistral_hackathon/src/image_to_ascii/data/FirstDataset/Cat/4.png')\n",
    "pil_gray_image = img.convert('L')"
   ]
  },
  {
   "cell_type": "code",
   "execution_count": null,
   "metadata": {},
   "outputs": [],
   "source": [
    "%time remove_background(img)"
   ]
  },
  {
   "cell_type": "code",
   "execution_count": null,
   "metadata": {},
   "outputs": [],
   "source": [
    "%time remove_background(pil_gray_image)"
   ]
  },
  {
   "cell_type": "code",
   "execution_count": null,
   "metadata": {},
   "outputs": [],
   "source": [
    "from PIL import Image\n",
    "import numpy as np\n",
    "import cv2\n",
    "import matplotlib.pyplot as plt\n",
    "\n",
    "\n",
    "path1 = '/home/alex/Desktop/mistral_hackathon/src/image_to_ascii/data/FirstDataset/Cat/1.png'\n",
    "path2 = '/home/alex/Desktop/mistral_hackathon/src/image_to_ascii/data/FirstDataset/Cat/t90.png'\n",
    "path3 = '/home/alex/Desktop/mistral_hackathon/src/image_to_ascii/data/FirstDataset/Cat/t91.png'\n",
    "path4 = '/home/alex/Desktop/mistral_hackathon/src/image_to_ascii/data/FirstDataset/Cat/t83.png'\n",
    "\n",
    "def test(path):\n",
    "    pil_image = Image.open(path)\n",
    "\n",
    "    img = np.array(pil_image)\n",
    "    img = remove_background(img)\n",
    "\n",
    "    img_blurred = cv2.GaussianBlur(img,(5,5),15)\n",
    "    gray_img = cv2.cvtColor(img_blurred , cv2.COLOR_BGR2GRAY)\n",
    "    img_thresh = cv2.adaptiveThreshold(gray_img, 255, cv2.ADAPTIVE_THRESH_MEAN_C, cv2.THRESH_BINARY, 9, 5)\n",
    "    pil_image_processed = Image.fromarray(img_thresh)\n",
    "\n",
    "    plt.imshow(pil_image_processed, cmap='gray')\n",
    "    plt.show()\n",
    "\n",
    "test(path1)\n",
    "test(path2)\n",
    "test(path3)\n",
    "test(path4)"
   ]
  },
  {
   "cell_type": "code",
   "execution_count": null,
   "metadata": {},
   "outputs": [],
   "source": []
  }
 ],
 "metadata": {
  "kernelspec": {
   "display_name": ".venv",
   "language": "python",
   "name": "python3"
  },
  "language_info": {
   "codemirror_mode": {
    "name": "ipython",
    "version": 3
   },
   "file_extension": ".py",
   "mimetype": "text/x-python",
   "name": "python",
   "nbconvert_exporter": "python",
   "pygments_lexer": "ipython3",
   "version": "3.10.12"
  }
 },
 "nbformat": 4,
 "nbformat_minor": 2
}
