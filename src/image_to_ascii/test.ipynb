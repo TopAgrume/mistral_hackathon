{
 "cells": [
  {
   "cell_type": "code",
   "execution_count": null,
   "metadata": {},
   "outputs": [],
   "source": [
    "import PIL\n",
    "import os\n",
    "import csv\n",
    "\n",
    "ASCII_CHARS = [\"@\", \"#\", \"S\", \"%\", \"?\", \"*\", \"+\", \";\", \":\", \",\", \".\"]"
   ]
  },
  {
   "cell_type": "code",
   "execution_count": 17,
   "metadata": {},
   "outputs": [],
   "source": [
    "def resize_image(image, new_width=20):\n",
    "    width, height = image.size\n",
    "    ratio = height/width\n",
    "    new_height = int(new_width * ratio)\n",
    "    resized_image = image.resize((new_width, new_height)) # TODO copy\n",
    "    return resized_image\n",
    "\n",
    "def grayify(image):\n",
    "    grayscale_image = image.convert(\"L\")\n",
    "    return grayscale_image\n",
    "\n",
    "def pixels_to_ascii(image):\n",
    "    pixels = image.getdata()\n",
    "    characters = \"\".join([ASCII_CHARS[pixel//25] for pixel in pixels])\n",
    "    return characters\n",
    "\n",
    "def sentencify(ascii_art_list: list, new_width):\n",
    "    pixel_count = len(ascii_art_list)\n",
    "    ascii_image = \"\\n\".join([ascii_art_list[index:(index+new_width)] for index in range(0, pixel_count, new_width)])\n",
    "    return ascii_image\n",
    "\n",
    "def csv_save(file_name, data):\n",
    "    with open(file_name, mode='w', newline='') as file:\n",
    "        writer = csv.writer(file)\n",
    "        writer.writerows(data)\n",
    "\n",
    "def main(data_path, csv_ascii_20_path, csv_asccii_100_path):\n",
    "    ascii_20, ascii_100 = [], []\n",
    "    for datasets_name in os.listdir(data_path):\n",
    "        dataset_path = os.path.join(data_path, datasets_name)\n",
    "\n",
    "        for class_ in os.listdir(dataset_path):\n",
    "            class_path = os.path.join(dataset_path, class_)\n",
    "\n",
    "            for sample in os.listdir(class_path):\n",
    "                sample_path = os.path.join(class_path, sample)\n",
    "                print(f\"Processing: Dataset {datasets_name}, Class {class_}, Sample {sample}\")\n",
    "                try:\n",
    "                    image = PIL.Image.open(sample_path)\n",
    "                except:\n",
    "                    print(sample_path, \" is not a valid pathname to an image.\")\n",
    "                    continue\n",
    "\n",
    "                image_grey_20 = grayify(resize_image(image.copy(), 20))\n",
    "                image_grey_100 = grayify(resize_image(image.copy(), 100))\n",
    "                ascii_20.append(sentencify(pixels_to_ascii(image_grey_20)))\n",
    "                ascii_100.append(sentencify(pixels_to_ascii(image_grey_100)))\n",
    "\n",
    "    csv_save(csv_ascii_20_path, ascii_20)\n",
    "    csv_save(csv_asccii_100_path, ascii_100)\n",
    "    print('===> Done <===')"
   ]
  },
  {
   "cell_type": "code",
   "execution_count": 18,
   "metadata": {},
   "outputs": [
    {
     "data": {
      "text/plain": [
       "'/home/alex/Desktop/mistral_hackathon/src/image_to_ascii/data'"
      ]
     },
     "execution_count": 18,
     "metadata": {},
     "output_type": "execute_result"
    }
   ],
   "source": [
    "data_path = os.path.join(os.getcwd(), \"data\")\n",
    "data_path"
   ]
  },
  {
   "cell_type": "code",
   "execution_count": 19,
   "metadata": {},
   "outputs": [
    {
     "data": {
      "text/plain": [
       "'/home/alex/Desktop/mistral_hackathon/src/image_to_ascii/ascii_20/ascii_20.csv'"
      ]
     },
     "execution_count": 19,
     "metadata": {},
     "output_type": "execute_result"
    }
   ],
   "source": [
    "ascii_20_path = os.path.join(os.getcwd(), \"ascii_20\", \"ascii_20.csv\")\n",
    "ascii_20_path"
   ]
  },
  {
   "cell_type": "code",
   "execution_count": 20,
   "metadata": {},
   "outputs": [
    {
     "data": {
      "text/plain": [
       "'/home/alex/Desktop/mistral_hackathon/src/image_to_ascii/ascii_100/ascii_100.csv'"
      ]
     },
     "execution_count": 20,
     "metadata": {},
     "output_type": "execute_result"
    }
   ],
   "source": [
    "ascii_100_path = os.path.join(os.getcwd(), \"ascii_100\", \"ascii_100.csv\")\n",
    "ascii_100_path"
   ]
  },
  {
   "cell_type": "code",
   "execution_count": 21,
   "metadata": {},
   "outputs": [
    {
     "name": "stdout",
     "output_type": "stream",
     "text": [
      "===> Done <===\n"
     ]
    }
   ],
   "source": [
    "main(data_path, ascii_20_path, ascii_100_path)"
   ]
  },
  {
   "cell_type": "code",
   "execution_count": null,
   "metadata": {},
   "outputs": [],
   "source": []
  }
 ],
 "metadata": {
  "kernelspec": {
   "display_name": ".venv",
   "language": "python",
   "name": "python3"
  },
  "language_info": {
   "codemirror_mode": {
    "name": "ipython",
    "version": 3
   },
   "file_extension": ".py",
   "mimetype": "text/x-python",
   "name": "python",
   "nbconvert_exporter": "python",
   "pygments_lexer": "ipython3",
   "version": "3.10.12"
  }
 },
 "nbformat": 4,
 "nbformat_minor": 2
}
