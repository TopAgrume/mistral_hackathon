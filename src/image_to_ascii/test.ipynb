{
 "cells": [
  {
   "cell_type": "code",
   "execution_count": 1,
   "metadata": {},
   "outputs": [],
   "source": [
    "import os\n",
    "import csv\n",
    "import cv2\n",
    "from PIL import Image\n",
    "from tqdm import tqdm\n",
    "import numpy as np\n",
    "from rembg import remove as remove_background\n",
    "\n",
    "\n",
    "ASCII_CHARS = [\"@\", \"#\", \"S\", \"%\", \"?\", \"*\", \"+\", \";\", \":\", \",\", \".\"]\n",
    "ASCII_CHARS = [' ', '.', ',', ':', ';', '+', '*', '?', '%', 'S', '#', '@']"
   ]
  },
  {
   "cell_type": "code",
   "execution_count": 2,
   "metadata": {},
   "outputs": [],
   "source": [
    "def resize_image(image, new_width=20):\n",
    "    width, height = image.size\n",
    "    ratio = height/width\n",
    "    new_height = int(new_width * ratio)\n",
    "    resized_image = image.resize((new_width, new_height)) # TODO copy\n",
    "    return resized_image\n",
    "\n",
    "def grayify(image):\n",
    "    grayscale_image = image.convert(\"L\")\n",
    "    return grayscale_image\n",
    "\n",
    "def pixels_to_ascii(image):\n",
    "    pixels = image.getdata()\n",
    "    duplicated_pixels = [pixel for pixel in pixels for _ in range(2)]\n",
    "    characters = \"\".join([ASCII_CHARS[pixel//25] for pixel in duplicated_pixels])\n",
    "    return characters\n",
    "\n",
    "def sentencify(ascii_art_list: list, new_width):\n",
    "    pixel_count = len(ascii_art_list) * 2\n",
    "    ascii_image = \"\\n\".join([ascii_art_list[index:(index+new_width)] for index in range(0, pixel_count, new_width)])\n",
    "    return ascii_image\n",
    "\n",
    "def csv_save(file_name, data):\n",
    "    with open(file_name, mode='w', newline='') as file:\n",
    "        writer = csv.writer(file)\n",
    "        writer.writerows(data)"
   ]
  },
  {
   "cell_type": "code",
   "execution_count": 3,
   "metadata": {},
   "outputs": [],
   "source": [
    "def main(data_path, csv_ascii_20_path, csv_asccii_100_path):\n",
    "    ascii_20, ascii_100 = [], []\n",
    "    for datasets_name in os.listdir(data_path):\n",
    "        dataset_path = os.path.join(data_path, datasets_name)\n",
    "\n",
    "        for class_ in os.listdir(dataset_path):\n",
    "            class_path = os.path.join(dataset_path, class_)\n",
    "\n",
    "            for sample in tqdm(os.listdir(class_path)):\n",
    "                sample_path = os.path.join(class_path, sample)\n",
    "                #print(f\"Processing: Dataset {datasets_name}, Class {class_}, Sample {sample}\")\n",
    "                try:\n",
    "                    input = cv2.imread(sample_path)\n",
    "                    image = remove_background(input)\n",
    "\n",
    "                    img_blurred = cv2.GaussianBlur(image,(5,5),15)\n",
    "                    gray_img = cv2.cvtColor(img_blurred , cv2.COLOR_BGR2GRAY)\n",
    "                    img_thresh = cv2.adaptiveThreshold(gray_img, 255, cv2.ADAPTIVE_THRESH_MEAN_C, cv2.THRESH_BINARY, 9, 5)\n",
    "\n",
    "                    # To PIL Image\n",
    "                    image = Image.fromarray(img_thresh)\n",
    "                except:\n",
    "                    print(sample_path, \" is not a valid pathname to an image.\")\n",
    "                    continue\n",
    "\n",
    "                image_grey_20 = grayify(resize_image(image.copy(), 20))\n",
    "                image_grey_100 = grayify(resize_image(image.copy(), 100))\n",
    "                ascii_20.append([sentencify(pixels_to_ascii(image_grey_20), 40), class_, sample])\n",
    "                ascii_100.append([sentencify(pixels_to_ascii(image_grey_100), 200), class_, sample])\n",
    "\n",
    "            csv_save(os.path.join(csv_ascii_20_path, f\"_{datasets_name}_{class_}\"), ascii_20)\n",
    "            csv_save(os.path.join(csv_asccii_100_path, f\"_{datasets_name}_{class_}\"), ascii_100)\n",
    "    print('===> Done <===')"
   ]
  },
  {
   "cell_type": "code",
   "execution_count": 4,
   "metadata": {},
   "outputs": [
    {
     "data": {
      "text/plain": [
       "'/home/alex/Desktop/mistral_hackathon/src/image_to_ascii/data'"
      ]
     },
     "execution_count": 4,
     "metadata": {},
     "output_type": "execute_result"
    }
   ],
   "source": [
    "data_path = os.path.join(os.getcwd(), \"data\")\n",
    "data_path"
   ]
  },
  {
   "cell_type": "code",
   "execution_count": 5,
   "metadata": {},
   "outputs": [
    {
     "data": {
      "text/plain": [
       "'/home/alex/Desktop/mistral_hackathon/src/image_to_ascii/ascii_20/ascii_20.csv'"
      ]
     },
     "execution_count": 5,
     "metadata": {},
     "output_type": "execute_result"
    }
   ],
   "source": [
    "ascii_20_path = os.path.join(os.getcwd(), \"ascii_20\", \"ascii_20.csv\")\n",
    "ascii_20_path"
   ]
  },
  {
   "cell_type": "code",
   "execution_count": 6,
   "metadata": {},
   "outputs": [
    {
     "data": {
      "text/plain": [
       "'/home/alex/Desktop/mistral_hackathon/src/image_to_ascii/ascii_100/ascii_100.csv'"
      ]
     },
     "execution_count": 6,
     "metadata": {},
     "output_type": "execute_result"
    }
   ],
   "source": [
    "ascii_100_path = os.path.join(os.getcwd(), \"ascii_100\", \"ascii_100.csv\")\n",
    "ascii_100_path"
   ]
  },
  {
   "cell_type": "code",
   "execution_count": 7,
   "metadata": {},
   "outputs": [
    {
     "name": "stderr",
     "output_type": "stream",
     "text": [
      " 24%|██▍       | 122/500 [01:33<04:34,  1.38it/s]"
     ]
    }
   ],
   "source": [
    "main(data_path, ascii_20_path, ascii_100_path)"
   ]
  },
  {
   "cell_type": "code",
   "execution_count": null,
   "metadata": {},
   "outputs": [],
   "source": [
    "import pandas as pd\n",
    "\n",
    "df_ascii_20 = pd.read_csv(ascii_20_path, header=None, names=[\"ascii_art\", \"class\", \"sample_name\"])\n",
    "df_ascii_100 = pd.read_csv(ascii_100_path, header=None, names=[\"ascii_art\", \"class\", \"sample_name\"])\n"
   ]
  },
  {
   "cell_type": "code",
   "execution_count": null,
   "metadata": {},
   "outputs": [],
   "source": [
    "img = Image.open('/home/alex/Desktop/mistral_hackathon/src/image_to_ascii/data/FirstDataset/Cat/4.png')\n",
    "pil_gray_image = img.convert('L')"
   ]
  },
  {
   "cell_type": "code",
   "execution_count": null,
   "metadata": {},
   "outputs": [],
   "source": [
    "%time remove_background(img)"
   ]
  },
  {
   "cell_type": "code",
   "execution_count": null,
   "metadata": {},
   "outputs": [],
   "source": [
    "%time remove_background(pil_gray_image)"
   ]
  },
  {
   "cell_type": "code",
   "execution_count": null,
   "metadata": {},
   "outputs": [],
   "source": [
    "from PIL import Image\n",
    "import numpy as np\n",
    "import cv2\n",
    "import matplotlib.pyplot as plt\n",
    "\n",
    "\n",
    "path1 = '/home/alex/Desktop/mistral_hackathon/src/image_to_ascii/data/FirstDataset/Cat/1.png'\n",
    "path2 = '/home/alex/Desktop/mistral_hackathon/src/image_to_ascii/data/FirstDataset/Cat/t90.png'\n",
    "path3 = '/home/alex/Desktop/mistral_hackathon/src/image_to_ascii/data/FirstDataset/Cat/t91.png'\n",
    "path4 = '/home/alex/Desktop/mistral_hackathon/src/image_to_ascii/data/FirstDataset/Cat/t83.png'\n",
    "\n",
    "def test(path):\n",
    "    pil_image = Image.open(path)\n",
    "\n",
    "    img = np.array(pil_image)\n",
    "    img = remove_background(img)\n",
    "\n",
    "    img_blurred = cv2.GaussianBlur(img,(5,5),15)\n",
    "    gray_img = cv2.cvtColor(img_blurred , cv2.COLOR_BGR2GRAY)\n",
    "    img_thresh = cv2.adaptiveThreshold(gray_img, 255, cv2.ADAPTIVE_THRESH_MEAN_C, cv2.THRESH_BINARY, 9, 5)\n",
    "    pil_image_processed = Image.fromarray(img_thresh)\n",
    "\n",
    "    plt.imshow(pil_image_processed, cmap='gray')\n",
    "    plt.show()\n",
    "\n",
    "test(path1)\n",
    "test(path2)\n",
    "test(path3)\n",
    "test(path4)"
   ]
  },
  {
   "cell_type": "code",
   "execution_count": null,
   "metadata": {},
   "outputs": [],
   "source": []
  }
 ],
 "metadata": {
  "kernelspec": {
   "display_name": ".venv",
   "language": "python",
   "name": "python3"
  },
  "language_info": {
   "codemirror_mode": {
    "name": "ipython",
    "version": 3
   },
   "file_extension": ".py",
   "mimetype": "text/x-python",
   "name": "python",
   "nbconvert_exporter": "python",
   "pygments_lexer": "ipython3",
   "version": "3.10.12"
  }
 },
 "nbformat": 4,
 "nbformat_minor": 2
}
